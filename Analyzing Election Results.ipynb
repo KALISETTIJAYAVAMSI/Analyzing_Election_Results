{
 "cells": [
  {
   "cell_type": "markdown",
   "id": "1fa49bf1-13dc-4ab6-b2ce-b22e1ccddd3f",
   "metadata": {},
   "source": [
    "# Project 1: Analyzing Election Results"
   ]
  },
  {
   "cell_type": "markdown",
   "id": "1e765b37-7b08-48c8-b2b7-48655c92394a",
   "metadata": {},
   "source": [
    "# Import Library"
   ]
  },
  {
   "cell_type": "code",
   "execution_count": 7,
   "id": "0e8f6414-5320-4013-bc90-02fbe377900c",
   "metadata": {},
   "outputs": [],
   "source": [
    "import pandas as pd"
   ]
  },
  {
   "cell_type": "markdown",
   "id": "f69a1c6f-f74c-4a71-a6de-a0748dedcd4c",
   "metadata": {},
   "source": [
    "# Import Data"
   ]
  },
  {
   "cell_type": "raw",
   "id": "97e8e574-56b8-48ff-83b9-ce72097a7d2f",
   "metadata": {},
   "source": [
    "# Sample election results data (replace with actual data if available)"
   ]
  },
  {
   "cell_type": "code",
   "execution_count": 8,
   "id": "3369ff5e-1efa-44b3-9b08-aca62ad3ba70",
   "metadata": {},
   "outputs": [],
   "source": [
    "data={\n",
    "    'Constituency': ['A', 'B', 'C', 'A', 'B', 'C', 'A', 'B', 'C'],\n",
    "\n",
    "    'Party': ['Party A', 'Party B', 'Party A', 'Party B', 'Party C', 'Party C', 'Party A', 'Party B', 'Party A'], \n",
    "\n",
    "    'Candidate': ['Candidate X', 'Candidate Y', 'Candidate Z', 'Candidate P', 'Candidate Q', 'Candidate R', 'Candidate S', 'Candidate T', 'Candidate U'],\n",
    "\n",
    "    'Votes': [15000, 12000, 18000, 13000, 10000, 11000, 17000, 14000, 16000]\n",
    "\n",
    "    \n",
    "}\n",
    "df=pd.DataFrame(data)\n"
   ]
  },
  {
   "cell_type": "raw",
   "id": "2e323287-d327-4053-924d-fd8db70535b3",
   "metadata": {},
   "source": [
    "#Calculate total votes for each party\n"
   ]
  },
  {
   "cell_type": "code",
   "execution_count": 10,
   "id": "d8b9bc46-2de8-4fc9-97b8-bc34eb18f932",
   "metadata": {},
   "outputs": [
    {
     "name": "stdout",
     "output_type": "stream",
     "text": [
      "Total Votes per Party: \n",
      " Party\n",
      "Party A    66000\n",
      "Party B    39000\n",
      "Party C    21000\n",
      "Name: Votes, dtype: int64\n"
     ]
    }
   ],
   "source": [
    "total_votes_by_party =df.groupby('Party') ['Votes'].sum()\n",
    "\n",
    "print(\"Total Votes per Party: \\n\", total_votes_by_party)"
   ]
  },
  {
   "cell_type": "raw",
   "id": "d5d13055-9873-48ee-a8b9-2bd868a24e24",
   "metadata": {},
   "source": [
    "# Identifying the winning party in each constituency"
   ]
  },
  {
   "cell_type": "code",
   "execution_count": 11,
   "id": "2a01d554-9e6e-4868-9cfc-b430ba9187c7",
   "metadata": {},
   "outputs": [],
   "source": [
    "def get_winning_party(x):\n",
    "    return x.loc[x['Votes'].idxmax(), 'Party']\n"
   ]
  },
  {
   "cell_type": "code",
   "execution_count": 12,
   "id": "5571884f-1817-4b23-af3c-633320819e30",
   "metadata": {},
   "outputs": [
    {
     "name": "stdout",
     "output_type": "stream",
     "text": [
      "\n",
      "Winning Party by Constituency:\n",
      " Constituency\n",
      "A    Party A\n",
      "B    Party B\n",
      "C    Party A\n",
      "dtype: object\n"
     ]
    },
    {
     "name": "stderr",
     "output_type": "stream",
     "text": [
      "C:\\Users\\user\\AppData\\Local\\Temp\\ipykernel_12080\\2109377373.py:1: DeprecationWarning: DataFrameGroupBy.apply operated on the grouping columns. This behavior is deprecated, and in a future version of pandas the grouping columns will be excluded from the operation. Either pass `include_groups=False` to exclude the groupings or explicitly select the grouping columns after groupby to silence this warning.\n",
      "  winning_party_by_constituency =df.groupby('Constituency').apply(get_winning_party)\n"
     ]
    }
   ],
   "source": [
    "winning_party_by_constituency =df.groupby('Constituency').apply(get_winning_party)\n",
    "\n",
    "print(\"\\nWinning Party by Constituency:\\n\", winning_party_by_constituency)\n"
   ]
  },
  {
   "cell_type": "markdown",
   "id": "4fb5e967-6bcb-4ec6-8f0e-185b406cb370",
   "metadata": {},
   "source": [
    "#Determine the overall election winner\n"
   ]
  },
  {
   "cell_type": "code",
   "execution_count": 13,
   "id": "e3fd7e3b-02ae-4e3f-9fe4-ed8d9cc8f844",
   "metadata": {},
   "outputs": [
    {
     "name": "stdout",
     "output_type": "stream",
     "text": [
      "\n",
      "Overall Election Winner: Party A\n"
     ]
    }
   ],
   "source": [
    "overall_winner = total_votes_by_party.idxmax()\n",
    "\n",
    "print(\"\\nOverall Election Winner:\", overall_winner)\n"
   ]
  },
  {
   "cell_type": "raw",
   "id": "ad19812f-466b-4dec-be70-a33ef8776815",
   "metadata": {},
   "source": [
    "#Calculate vote share percentages"
   ]
  },
  {
   "cell_type": "code",
   "execution_count": 15,
   "id": "c5c0defe-386a-42ed-a168-2052635245b3",
   "metadata": {},
   "outputs": [],
   "source": [
    "total_votes =df['Votes'].sum()\n",
    "\n",
    "df[ 'Vote Share (%)'] = (df ['Votes'] / total_votes) * 100\n"
   ]
  },
  {
   "cell_type": "code",
   "execution_count": 18,
   "id": "f459ff8f-c5da-4e6b-a25c-e81673395f7c",
   "metadata": {},
   "outputs": [
    {
     "name": "stdout",
     "output_type": "stream",
     "text": [
      "\n",
      "Vote Share Percentages: \n",
      "   Constituency    Party    Candidate  Votes  Vote Share (%)\n",
      "0            A  Party A  Candidate X  15000       11.904762\n",
      "1            B  Party B  Candidate Y  12000        9.523810\n",
      "2            C  Party A  Candidate Z  18000       14.285714\n",
      "3            A  Party B  Candidate P  13000       10.317460\n",
      "4            B  Party C  Candidate Q  10000        7.936508\n",
      "5            C  Party C  Candidate R  11000        8.730159\n",
      "6            A  Party A  Candidate S  17000       13.492063\n",
      "7            B  Party B  Candidate T  14000       11.111111\n",
      "8            C  Party A  Candidate U  16000       12.698413\n"
     ]
    }
   ],
   "source": [
    "print(\"\\nVote Share Percentages: \\n\",df)"
   ]
  },
  {
   "cell_type": "raw",
   "id": "02a4196d-1653-4b49-babf-570fdf1597b2",
   "metadata": {},
   "source": [
    "# Identify constituencies with close contests (e.g., margin less than 12%)"
   ]
  },
  {
   "cell_type": "code",
   "execution_count": 22,
   "id": "f7248c6e-182b-4808-8f7c-e72e814ac31a",
   "metadata": {},
   "outputs": [
    {
     "name": "stdout",
     "output_type": "stream",
     "text": [
      "\n",
      "Constituencies with Close Contests: ['A' 'C']\n"
     ]
    }
   ],
   "source": [
    "def close_contest(x):\n",
    "\n",
    "    vote_counts = x['Votes'].values\n",
    "\n",
    "    if len(vote_counts) > 1:\n",
    "\n",
    "        vote_counts.sort() # Sort the vote counts within the constituency.\n",
    "\n",
    "        margin = (vote_counts [-1]-vote_counts[-2]) / vote_counts[-1] *100\n",
    "\n",
    "        return margin < 12.0\n",
    "\n",
    "    else:\n",
    "\n",
    "        return False\n",
    "\n",
    "close_constituencies = df.groupby('Constituency').filter(close_contest) ['Constituency'].unique() \n",
    "print(\"\\nConstituencies with Close Contests:\", close_constituencies)"
   ]
  },
  {
   "cell_type": "markdown",
   "id": "09f269c3-dc0b-44ad-a9b8-f167ea2eaa23",
   "metadata": {},
   "source": [
    "# The Above Code does the following"
   ]
  },
  {
   "cell_type": "raw",
   "id": "b071732f-be8f-4325-9d45-54497e65e6bd",
   "metadata": {},
   "source": [
    "1. Imports pandas: Imports the pandas library for data manipulation.\n",
    "\n",
    "2. Creates a DataFrame: Creates a pandas DataFrame (df) to store the election data. This DataFrame includes columns for 'Constituency', 'Party', 'Candidate', and 'Votes'.\n",
    "\n",
    "3. Calculates total votes per party: Groups the data by 'Party' and calculates the sum of 'Votes' for each party.\n",
    "\n",
    "4. Identifies winning party in each constituency: Defines a function get_winning_party to find the party with the maximum votes in each constituency. It then applies this function to the DataFrame grouped by 'Constituency'.\n",
    "\n",
    "5. Determines the overall ection winner: Finds the party with the maximum total votes across all constituencies.\n",
    "\n",
    "6. Calculates vote share percentages: Calculates the percentage of votes each candidate received out of the total votes cast.\n",
    "\n",
    "7. Identifies close contests: Defines a function close_contest to check if the vote margin between the top two candidates in a constituency is less than 5%. It then filters the DataFrame to identify constituencies with close contests.\n",
    "\n",
    "This example demonstrates how to use pandas DataFrames and Python operators to analyze election results. You can adapt this code to analyze real election data by replacing the sample data with your own dataset."
   ]
  }
 ],
 "metadata": {
  "kernelspec": {
   "display_name": "Python 3 (ipykernel)",
   "language": "python",
   "name": "python3"
  },
  "language_info": {
   "codemirror_mode": {
    "name": "ipython",
    "version": 3
   },
   "file_extension": ".py",
   "mimetype": "text/x-python",
   "name": "python",
   "nbconvert_exporter": "python",
   "pygments_lexer": "ipython3",
   "version": "3.9.8"
  }
 },
 "nbformat": 4,
 "nbformat_minor": 5
}
